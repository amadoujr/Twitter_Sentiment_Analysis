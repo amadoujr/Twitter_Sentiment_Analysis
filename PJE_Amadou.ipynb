{
 "cells": [
  {
   "cell_type": "code",
   "execution_count": 2,
   "id": "ca2e97d0",
   "metadata": {},
   "outputs": [],
   "source": [
    "from tkinter import *\n",
    "from tkinter import filedialog\n",
    "from tkinter import ttk\n",
    "import pandas as pd\n",
    "import re"
   ]
  },
  {
   "cell_type": "code",
   "execution_count": 8,
   "id": "b5286860",
   "metadata": {},
   "outputs": [
    {
     "name": "stdout",
     "output_type": "stream",
     "text": [
      "  target         Ids                          date      flag             user  \\\n",
      "0      0  1467810672  Mon Apr 06 22:19:49 PDT 2023  NO_QUERY    scotthamilton   \n",
      "1      0  1467810369  Mon Apr 06 22:19:45 PDT 2023  NO_QUERY  _TheSpecialOne_   \n",
      "\n",
      "                                                text  \n",
      "0  is upset that he can't update his Facebook by ...  \n",
      "1  @switchfoot http://twitpic.com/2y1zl - Awww, t...  \n",
      "----\n"
     ]
    },
    {
     "name": "stderr",
     "output_type": "stream",
     "text": [
      "Exception in Tkinter callback\n",
      "Traceback (most recent call last):\n",
      "  File \"/Users/amadouu/opt/miniconda3/lib/python3.9/tkinter/__init__.py\", line 1892, in __call__\n",
      "    return self.func(*args)\n",
      "  File \"/var/folders/rt/dwbktyq55txcqynyl32k560r0000gn/T/ipykernel_27660/3072718420.py\", line 9, in uploadFile\n",
      "    self.cleanFile(fileName)\n",
      "  File \"/var/folders/rt/dwbktyq55txcqynyl32k560r0000gn/T/ipykernel_27660/3072718420.py\", line 19, in cleanFile\n",
      "    self.process_Dataframe(df,\"text\")\n",
      "  File \"/Users/amadouu/opt/miniconda3/lib/python3.9/tkinter/__init__.py\", line 2354, in __getattr__\n",
      "    return getattr(self.tk, attr)\n",
      "AttributeError: '_tkinter.tkapp' object has no attribute 'process_Dataframe'\n"
     ]
    }
   ],
   "source": [
    "class Application(Tk):\n",
    "    def __init__(self):\n",
    "        Tk.__init__(self)\n",
    "        self.title(\"Tweets feelings\")  \n",
    "        self.minsize(800,760)  \n",
    "        \n",
    "    def uploadFile(self):\n",
    "        fileName = filedialog.askopenfilename()\n",
    "        self.cleanFile(fileName)\n",
    "        \n",
    "    def cleanFile(self,csvFile):\n",
    "        file = pd.read_csv(csvFile)\n",
    "        df = pd.DataFrame(file)\n",
    "        oldColumns = df.columns # her, we have the information about the first row, pandas put it as a column\n",
    "        df.columns = ['target','Ids','date','flag','user','text'] # renaming old columns \n",
    "        df.loc[len(df.index)] = oldColumns  # put the old column (first row) at the last row\n",
    "        print(df.head())\n",
    "        print(\"----\")\n",
    "        self.process_Dataframe(df,\"text\")\n",
    "        \n",
    "    \n",
    "    def removeSpecialCaractere(self,text):\n",
    "        #1, Replace @username with @\n",
    "        text = re.sub(r'(@[a-zA-Z0-9]+[:.!])', '@', text)\n",
    "        #2, Add white space character before and after ! ? : . \" ; ,\n",
    "        text = re.sub(r'([!?\":;,])', r' \\1 ', text)\n",
    "        #3, Replace dollar values with variable ($14.99 => $XX)\n",
    "        text = re.sub(r'(\\$[\\d.]+)', '$XX', text)\n",
    "        #4, Replace percentage values with variable (25n% => XXn%)\n",
    "        text = re.sub(r'(\\d+% )', r'XX\\1', text)\n",
    "        \n",
    "        return text\n",
    "    \n",
    "    def process_dataframe(self, data_frame, column_name):\n",
    "        data_frame[column_name] = data_frame[column_name].apply(self.removeSpecialCaractere)\n",
    "        return data_frame\n",
    "        \n",
    "    def createWidgets(self): \n",
    "        cadre_boutons = Frame(self) \n",
    "        cadre_boutons.pack(side = \"top\")\n",
    "        choices = [\"Option 1\", \"Option 2\", \"Option 3\"]\n",
    "        self.dropdown = ttk.Combobox(self, values=choices)\n",
    "        self.dropdown.set(\"Select an option\")\n",
    "        self.uploadButton = Button(cadre_boutons, text = \"Upload the learning base\", command = self.uploadFile)\n",
    "        self.uploadButton2 = Button(cadre_boutons, text = \"Upload the tweets to classify\", command = self.uploadFile)\n",
    "        self.quitButton = Button(self, text = \"Leave\", command = self.destroy)\n",
    "        self.dropdown.pack(side=\"right\",anchor=\"ne\")\n",
    "        self.uploadButton.pack(side=\"left\", padx=10)\n",
    "        self.uploadButton2.pack(side=\"right\", padx=10)\n",
    "        self.quitButton.pack(side=\"bottom\",anchor=\"se\")\n",
    "        \n",
    "app = Application()\n",
    "app.createWidgets()\n",
    "app.mainloop()"
   ]
  },
  {
   "cell_type": "code",
   "execution_count": 6,
   "id": "651d09ca",
   "metadata": {},
   "outputs": [],
   "source": [
    " def removeSpecialCaractere(text):\n",
    "        #1, Replace @username with @\n",
    "    text = re.sub(r'(@[a-zA-Z0-9]+[:.!])', '@', text)\n",
    "        #2, Add white space character before and after ! ? : . \" ; ,\n",
    "    text = re.sub(r'([!?\":;,])', r' \\1 ', text)\n",
    "        #3, Replace dollar values with variable ($14.99 => $XX)\n",
    "    text = re.sub(r'(\\$[\\d.]+)', '$XX', text)\n",
    "        #4, Replace percentage values with variable (25n% => XXn%)\n",
    "    text = re.sub(r'(\\d+% )', r'XX\\1', text)    \n",
    "    return text\n",
    "    \n",
    "def process_dataframe(data_frame, column_name):\n",
    "    data_frame[column_name] = data_frame[column_name].apply(removeSpecialCaractere)\n",
    "    return data_frame\n",
    "        "
   ]
  },
  {
   "cell_type": "code",
   "execution_count": 7,
   "id": "23783d0a",
   "metadata": {},
   "outputs": [
    {
     "data": {
      "text/html": [
       "<div>\n",
       "<style scoped>\n",
       "    .dataframe tbody tr th:only-of-type {\n",
       "        vertical-align: middle;\n",
       "    }\n",
       "\n",
       "    .dataframe tbody tr th {\n",
       "        vertical-align: top;\n",
       "    }\n",
       "\n",
       "    .dataframe thead th {\n",
       "        text-align: right;\n",
       "    }\n",
       "</style>\n",
       "<table border=\"1\" class=\"dataframe\">\n",
       "  <thead>\n",
       "    <tr style=\"text-align: right;\">\n",
       "      <th></th>\n",
       "      <th>target</th>\n",
       "      <th>Ids</th>\n",
       "      <th>date</th>\n",
       "      <th>flag</th>\n",
       "      <th>user</th>\n",
       "      <th>text</th>\n",
       "    </tr>\n",
       "  </thead>\n",
       "  <tbody>\n",
       "    <tr>\n",
       "      <th>0</th>\n",
       "      <td>0</td>\n",
       "      <td>1467810672</td>\n",
       "      <td>Mon Apr 06 22:19:49 PDT 2023</td>\n",
       "      <td>NO_QUERY</td>\n",
       "      <td>scotthamilton</td>\n",
       "      <td>is upset that he can't update his Facebook by ...</td>\n",
       "    </tr>\n",
       "    <tr>\n",
       "      <th>1</th>\n",
       "      <td>0</td>\n",
       "      <td>1467810369</td>\n",
       "      <td>Mon Apr 06 22:19:45 PDT 2023</td>\n",
       "      <td>NO_QUERY</td>\n",
       "      <td>_TheSpecialOne_</td>\n",
       "      <td>@switchfoot http : //twitpic.com/2y1zl - Awww ...</td>\n",
       "    </tr>\n",
       "  </tbody>\n",
       "</table>\n",
       "</div>"
      ],
      "text/plain": [
       "  target         Ids                          date      flag             user  \\\n",
       "0      0  1467810672  Mon Apr 06 22:19:49 PDT 2023  NO_QUERY    scotthamilton   \n",
       "1      0  1467810369  Mon Apr 06 22:19:45 PDT 2023  NO_QUERY  _TheSpecialOne_   \n",
       "\n",
       "                                                text  \n",
       "0  is upset that he can't update his Facebook by ...  \n",
       "1  @switchfoot http : //twitpic.com/2y1zl - Awww ...  "
      ]
     },
     "execution_count": 7,
     "metadata": {},
     "output_type": "execute_result"
    }
   ],
   "source": [
    "csv_file = pd.read_csv(\"testPJE.csv\")\n",
    "df = pd.DataFrame(csv_file)\n",
    "oldColumns = df.columns # her, we have the information about the first row, pandas put it as a column\n",
    "df.columns = ['target','Ids','date','flag','user','text'] # renaming old columns \n",
    "df.loc[len(df.index)] = oldColumns  # put the old column (first row) at the last row\n",
    "process_dataframe(df,\"text\")\n",
    "df"
   ]
  },
  {
   "cell_type": "code",
   "execution_count": null,
   "id": "56d9a521",
   "metadata": {},
   "outputs": [],
   "source": []
  }
 ],
 "metadata": {
  "kernelspec": {
   "display_name": "Python 3 (ipykernel)",
   "language": "python",
   "name": "python3"
  },
  "language_info": {
   "codemirror_mode": {
    "name": "ipython",
    "version": 3
   },
   "file_extension": ".py",
   "mimetype": "text/x-python",
   "name": "python",
   "nbconvert_exporter": "python",
   "pygments_lexer": "ipython3",
   "version": "3.9.12"
  }
 },
 "nbformat": 4,
 "nbformat_minor": 5
}
