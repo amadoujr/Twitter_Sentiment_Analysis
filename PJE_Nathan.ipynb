{
 "cells": [
  {
   "cell_type": "code",
   "execution_count": 12,
   "id": "ca2e97d0",
   "metadata": {},
   "outputs": [],
   "source": [
    "from tkinter import *\n",
    "from tkinter import filedialog\n",
    "from tkinter import ttk\n",
    "import pandas as pd\n",
    "import os "
   ]
  },
  {
   "cell_type": "code",
   "execution_count": 13,
   "id": "b5286860",
   "metadata": {},
   "outputs": [
    {
     "name": "stdout",
     "output_type": "stream",
     "text": [
      "  target         Ids                          date      flag             user  \\\n",
      "0      0  1467810672  Mon Apr 06 22:19:49 PDT 2023  NO_QUERY    scotthamilton   \n",
      "1      0  1467810369  Mon Apr 06 22:19:45 PDT 2023  NO_QUERY  _TheSpecialOne_   \n",
      "\n",
      "                                                text  \n",
      "0  is upset that he can't update his Facebook by ...  \n",
      "1  @switchfoot http://twitpic.com/2y1zl - Awww, t...  \n",
      "    target    Ids                          date     flag             user  \\\n",
      "0        4      4  Mon May 11 03:18:03 UTC 2009  kindle2           vcu451   \n",
      "1        4      5  Mon May 11 03:18:54 UTC 2009  kindle2           chadfu   \n",
      "2        4      6  Mon May 11 03:19:04 UTC 2009  kindle2            SIX15   \n",
      "3        4      7  Mon May 11 03:21:41 UTC 2009  kindle2         yamarama   \n",
      "4        4      8  Mon May 11 03:22:00 UTC 2009  kindle2     GeorgeVHulme   \n",
      "..     ...    ...                           ...      ...              ...   \n",
      "493      0  14073  Sun Jun 14 04:32:17 UTC 2009    latex           sam33r   \n",
      "494      4  14074  Sun Jun 14 04:36:34 UTC 2009    latex  iamtheonlyjosie   \n",
      "495      0  14075  Sun Jun 14 21:36:07 UTC 2009     iran        plutopup7   \n",
      "496      0  14076  Sun Jun 14 21:36:17 UTC 2009     iran     captain_pete   \n",
      "497      4      3  Mon May 11 03:17:40 UTC 2009  kindle2           tpryan   \n",
      "\n",
      "                                                  text  \n",
      "0    Reading my kindle2...  Love it... Lee childs i...  \n",
      "1    Ok, first assesment of the #kindle2 ...it fuck...  \n",
      "2    @kenburbary You'll love your Kindle2. I've had...  \n",
      "3    @mikefish  Fair enough. But i have the Kindle2...  \n",
      "4    @richardebaker no. it is too big. I'm quite ha...  \n",
      "..                                                 ...  \n",
      "493  On that note, I hate Word. I hate Pages. I hat...  \n",
      "494  Ahhh... back in a *real* text editing environm...  \n",
      "495  Trouble in Iran, I see. Hmm. Iran. Iran so far...  \n",
      "496  Reading the tweets coming out of Iran... The w...  \n",
      "497  @stellargirl I loooooooovvvvvveee my Kindle2. ...  \n",
      "\n",
      "[498 rows x 6 columns]\n"
     ]
    }
   ],
   "source": [
    "class Application(Tk):\n",
    "    def __init__(self):\n",
    "        Tk.__init__(self)\n",
    "        self.title(\"Tweets feelings\")  \n",
    "        self.minsize(800,760)\n",
    "        \n",
    "        self.learning_base_label = Label(self, text=\"Learning Base: No file selected\")\n",
    "        self.learning_base_label.pack()\n",
    "        \n",
    "        self.tweets_to_classify_label = Label(self, text=\"Tweets to Classify: No file selected\")\n",
    "        self.tweets_to_classify_label.pack()\n",
    "        \n",
    "    def uploadFile(self, button):\n",
    "        fileName = filedialog.askopenfilename()\n",
    "        if fileName:\n",
    "            file_name_only = os.path.basename(fileName)\n",
    "            self.cleanFile(fileName)\n",
    "            if button == self.uploadButton:\n",
    "                self.learning_base_label.config(text=f\"{self.learning_base_label['text'].split(':')[0]}: {file_name_only}\")\n",
    "            elif button == self.uploadButton2:\n",
    "                self.tweets_to_classify_label.config(text=f\"{self.tweets_to_classify_label['text'].split(':')[0]}: {file_name_only}\")\n",
    "        \n",
    "    def cleanFile(self,csvFile):\n",
    "        file = pd.read_csv(csvFile)\n",
    "        df = pd.DataFrame(file)\n",
    "        oldColumns = df.columns # her, we have the information about the first row, pandas put it as a column\n",
    "        df.columns = ['target','Ids','date','flag','user','text'] # renaming old columns \n",
    "        df.loc[len(df.index)] = oldColumns  # put the old column (first row) at the last row\n",
    "        print(df)\n",
    "        \n",
    "    def createWidgets(self): \n",
    "        cadre_boutons = Frame(self) \n",
    "        cadre_boutons.pack(side = \"top\")\n",
    "        choices = [\"Option 1\", \"Option 2\", \"Option 3\"]\n",
    "        self.dropdown = ttk.Combobox(self, values=choices)\n",
    "        self.dropdown.set(\"Select an option\")\n",
    "        self.uploadButton = Button(cadre_boutons, text = \"Upload the learning base\", command = lambda: self.uploadFile(self.uploadButton))\n",
    "        self.uploadButton2 = Button(cadre_boutons, text = \"Upload the tweets to classify\", command = lambda: self.uploadFile(self.uploadButton2))\n",
    "        self.quitButton = Button(self, text = \"Leave\", command = self.destroy)\n",
    "        self.dropdown.pack(side=\"right\",anchor=\"ne\")\n",
    "        self.uploadButton.pack(side=\"left\", padx=10)\n",
    "        self.uploadButton2.pack(side=\"right\", padx=10)\n",
    "        self.quitButton.pack(side=\"bottom\",anchor=\"se\")\n",
    "        \n",
    "app = Application()\n",
    "app.createWidgets()\n",
    "app.mainloop()"
   ]
  },
  {
   "cell_type": "code",
   "execution_count": null,
   "id": "23783d0a",
   "metadata": {},
   "outputs": [],
   "source": []
  },
  {
   "cell_type": "code",
   "execution_count": null,
   "id": "a1aec60c",
   "metadata": {},
   "outputs": [],
   "source": []
  }
 ],
 "metadata": {
  "kernelspec": {
   "display_name": "Python 3 (ipykernel)",
   "language": "python",
   "name": "python3"
  },
  "language_info": {
   "codemirror_mode": {
    "name": "ipython",
    "version": 3
   },
   "file_extension": ".py",
   "mimetype": "text/x-python",
   "name": "python",
   "nbconvert_exporter": "python",
   "pygments_lexer": "ipython3",
   "version": "3.10.12"
  }
 },
 "nbformat": 4,
 "nbformat_minor": 5
}
