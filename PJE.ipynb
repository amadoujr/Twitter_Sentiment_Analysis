{
 "cells": [
  {
   "cell_type": "code",
   "execution_count": null,
   "id": "b5286860",
   "metadata": {},
   "outputs": [],
   "source": [
    "from tkinter import *\n",
    "from tkinter import filedialog\n",
    "import pandas as pd \n",
    "\n",
    "class Application(Tk):\n",
    "    def __init__(self):\n",
    "        Tk.__init__(self)\n",
    "        self.title(\"Tweets feelings\")  \n",
    "        self.minsize(1550,850)  \n",
    "        self.createWidgets()\n",
    "    def uploadFile(self):\n",
    "        filename = filedialog.askopenfilename()\n",
    "    def createWidgets(self): \n",
    "        cadre_boutons = Frame(self) \n",
    "        cadre_boutons.pack(side=\"top\", pady=10) \n",
    "        self.uploadButton = Button(cadre_boutons, text = \"Upload the learning base\", command = self.uploadFile)\n",
    "        self.uploadButton2 = Button(cadre_boutons, text = \"Upload the tweets to classify\", command = self.uploadFile)\n",
    "        self.quitButton = Button(self, text = \"Leave\", command = self.destroy)\n",
    "        self.uploadButton.pack(side=\"left\", padx=10)\n",
    "        self.uploadButton2.pack(side=\"right\", padx=10)\n",
    "        self.quitButton.pack(side=\"bottom\",anchor=\"se\")\n",
    "        \n",
    "app = Application()\n",
    "app.mainloop()"
   ]
  },
  {
   "cell_type": "code",
   "execution_count": null,
   "id": "0bce2c7e",
   "metadata": {},
   "outputs": [],
   "source": []
  }
 ],
 "metadata": {
  "kernelspec": {
   "display_name": "Python 3 (ipykernel)",
   "language": "python",
   "name": "python3"
  },
  "language_info": {
   "codemirror_mode": {
    "name": "ipython",
    "version": 3
   },
   "file_extension": ".py",
   "mimetype": "text/x-python",
   "name": "python",
   "nbconvert_exporter": "python",
   "pygments_lexer": "ipython3",
   "version": "3.10.12"
  }
 },
 "nbformat": 4,
 "nbformat_minor": 5
}
