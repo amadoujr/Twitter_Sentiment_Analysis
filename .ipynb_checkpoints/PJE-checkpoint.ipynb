{
 "cells": [
  {
   "cell_type": "code",
   "execution_count": 1,
   "id": "4a1aede6",
   "metadata": {},
   "outputs": [],
   "source": [
    "from tkinter import *\n",
    "from tkinter import filedialog\n",
    "from tkinter import ttk\n",
    "import pandas as pd"
   ]
  },
  {
   "cell_type": "code",
   "execution_count": 12,
   "id": "b5286860",
   "metadata": {},
   "outputs": [],
   "source": [
    "class Application(Tk):\n",
    "    def __init__(self):\n",
    "        Tk.__init__(self)\n",
    "        self.title(\"Tweets feelings\")  \n",
    "        self.minsize(800,760)  \n",
    "        \n",
    "    def uploadFile(self):\n",
    "        fileName = filedialog.askopenfilename()\n",
    "        self.cleanFile(fileName)\n",
    "        \n",
    "    def cleanFile(self,csvFile):\n",
    "        file = pd.read_csv(csvFile)\n",
    "        df = pd.DataFrame(file)\n",
    "        oldColumns = df.columns # her, we have the information about the first row, pandas put it as a column\n",
    "        df.columns = ['target','Ids','date','flag','user','text'] # renaming old columns \n",
    "        df.loc[len(df.index)] = oldColumns  # put the old column (first row) at the last row\n",
    "        print(df)\n",
    "        \n",
    "    def createWidgets(self): \n",
    "        cadre_boutons = Frame(self) \n",
    "        cadre_boutons.pack(side = \"top\")\n",
    "        choices = [\"Option 1\", \"Option 2\", \"Option 3\"]\n",
    "        self.dropdown = ttk.Combobox(self, values=choices)\n",
    "        self.dropdown.set(\"Select an option\")\n",
    "        self.uploadButton = Button(cadre_boutons, text = \"Upload the learning base\", command = self.uploadFile)\n",
    "        self.uploadButton2 = Button(cadre_boutons, text = \"Upload the tweets to classify\", command = self.uploadFile)\n",
    "        self.quitButton = Button(self, text = \"Leave\", command = self.destroy)\n",
    "        self.dropdown.pack(side=\"right\",anchor=\"ne\")\n",
    "        self.uploadButton.pack(side=\"left\", padx=10)\n",
    "        self.uploadButton2.pack(side=\"right\", padx=10)\n",
    "        self.quitButton.pack(side=\"bottom\",anchor=\"se\")\n",
    "        \n",
    "app = Application()\n",
    "app.createWidgets()\n",
    "app.mainloop()"
   ]
  },
  {
   "cell_type": "code",
   "execution_count": null,
   "id": "2f8847a0",
   "metadata": {},
   "outputs": [],
   "source": []
  }
 ],
 "metadata": {
  "kernelspec": {
   "display_name": "Python 3 (ipykernel)",
   "language": "python",
   "name": "python3"
  },
  "language_info": {
   "codemirror_mode": {
    "name": "ipython",
    "version": 3
   },
   "file_extension": ".py",
   "mimetype": "text/x-python",
   "name": "python",
   "nbconvert_exporter": "python",
   "pygments_lexer": "ipython3",
   "version": "3.9.12"
  }
 },
 "nbformat": 4,
 "nbformat_minor": 5
}
