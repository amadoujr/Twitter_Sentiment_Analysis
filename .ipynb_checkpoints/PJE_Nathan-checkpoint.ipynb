{
 "cells": [
  {
   "cell_type": "code",
   "execution_count": 2,
   "id": "ca2e97d0",
   "metadata": {},
   "outputs": [],
   "source": [
    "from tkinter import *\n",
    "from tkinter import filedialog\n",
    "from tkinter import ttk\n",
    "import pandas as pd\n",
    "import os \n",
    "import re"
   ]
  },
  {
   "cell_type": "code",
   "execution_count": null,
   "id": "b5286860",
   "metadata": {},
   "outputs": [
    {
     "name": "stdout",
     "output_type": "stream",
     "text": [
      "    target    Ids                          date     flag             user  \\\n",
      "0        4      4  Mon May 11 03:18:03 UTC 2009  kindle2           vcu451   \n",
      "1        4      5  Mon May 11 03:18:54 UTC 2009  kindle2           chadfu   \n",
      "2        4      6  Mon May 11 03:19:04 UTC 2009  kindle2            SIX15   \n",
      "3        4      7  Mon May 11 03:21:41 UTC 2009  kindle2         yamarama   \n",
      "4        4      8  Mon May 11 03:22:00 UTC 2009  kindle2     GeorgeVHulme   \n",
      "..     ...    ...                           ...      ...              ...   \n",
      "493      0  14073  Sun Jun 14 04:32:17 UTC 2009    latex           sam33r   \n",
      "494      4  14074  Sun Jun 14 04:36:34 UTC 2009    latex  iamtheonlyjosie   \n",
      "495      0  14075  Sun Jun 14 21:36:07 UTC 2009     iran        plutopup7   \n",
      "496      0  14076  Sun Jun 14 21:36:17 UTC 2009     iran     captain_pete   \n",
      "497      4      3  Mon May 11 03:17:40 UTC 2009  kindle2           tpryan   \n",
      "\n",
      "                                                  text  \n",
      "0    Reading my kindle2 ...  Love it ... Lee childs...  \n",
      "1    Ok , first assesment of the kindle2 ... it fuc...  \n",
      "2    @ You'll love your Kindle2 . I've had mine for...  \n",
      "3    @  Fair enough . But i have the Kindle2 and I ...  \n",
      "4    @ no . it is too big . I'm quite happy with th...  \n",
      "..                                                 ...  \n",
      "493  On that note , I hate Word . I hate Pages . I ...  \n",
      "494  Ahhh ... back in a * real * text editing envir...  \n",
      "495  Trouble in Iran , I see . Hmm . Iran . Iran so...  \n",
      "496  Reading the tweets coming out of Iran ... The ...  \n",
      "497  @ I loooooooovvvvvveee my Kindle2 . Not that t...  \n",
      "\n",
      "[498 rows x 6 columns]\n"
     ]
    }
   ],
   "source": [
    "class Application(Tk):\n",
    "    def __init__(self):\n",
    "        Tk.__init__(self)\n",
    "        self.title(\"Tweets feelings\")  \n",
    "        self.minsize(800,760)\n",
    "        \n",
    "        self.learning_base_label = Label(self, text=\"Learning Base: No file selected\")\n",
    "        self.learning_base_label.pack()\n",
    "        \n",
    "        self.tweets_to_classify_label = Label(self, text=\"Tweets to Classify: No file selected\")\n",
    "        self.tweets_to_classify_label.pack()\n",
    "        \n",
    "    def uploadFile(self, button):\n",
    "        fileName = filedialog.askopenfilename()\n",
    "        if fileName:\n",
    "            file_name_only = os.path.basename(fileName)\n",
    "            self.cleanFile(fileName)\n",
    "            if button == self.uploadButton:\n",
    "                self.learning_base_label.config(text=f\"{self.learning_base_label['text'].split(':')[0]}: {file_name_only}\")\n",
    "            elif button == self.uploadButton2:\n",
    "                self.tweets_to_classify_label.config(text=f\"{self.tweets_to_classify_label['text'].split(':')[0]}: {file_name_only}\")\n",
    "        \n",
    "    def cleanFile(self,csvFile):\n",
    "        file = pd.read_csv(csvFile)\n",
    "        df = pd.DataFrame(file)\n",
    "        oldColumns = df.columns # her, we have the information about the first row, pandas put it as a column\n",
    "        df.columns = ['target','Ids','date','flag','user','text'] # renaming old columns \n",
    "        df.loc[len(df.index)] = oldColumns  # put the old column (first row) at the last row\n",
    "        df['text'] = df['text'].apply(lambda x: self.removeSpecialCaractere(x))\n",
    "        print(df)\n",
    "        \n",
    "    def removeSpecialCaractere(self,text):\n",
    "        indice = 1\n",
    "        while indice != 0:\n",
    "            indice = 0\n",
    "            copy = text\n",
    "            #Replace @username with @\n",
    "            text = re.sub(r'@[A-Za-z0-9]+', '@', text)\n",
    "            #Delete #\n",
    "            text = re.sub(r'#', '', text)\n",
    "            #Replace $|£|€|% values with variable ($14.99 => $XX) (57€ => €XX)\n",
    "            text = re.sub(r'[$£€%]\\d+(\\.\\d+)?', lambda match: match.group(0)[0] + 'XX', text)\n",
    "            text = re.sub(r'(\\d+(\\.\\d+)?)[$£€%]', lambda match: match.group(0)[-1] + 'XX', text)\n",
    "            #Delete RT\n",
    "            text = re.sub(r'RT[\\s]+', '', text)\n",
    "            #Delete link\n",
    "            text = re.sub('https?:\\/\\/\\S+', '', text)\n",
    "            #Adding space between every caracter preceded or followed by a ponctuation \n",
    "            text = re.sub(r'([.,:;?!*\"()\\[\\]{}])([A-Za-z0-9])', r'\\1 \\2', text)\n",
    "            text = re.sub(r'([A-Za-z0-9])([.,:;?!*\"()\\[\\]{}])', r'\\1 \\2', text)\n",
    "            #Delete emojis\n",
    "            emoji_pattern = re.compile(r'[\\U0001F600-\\U0001F64F\\U0001F300-\\U0001F5FF\\U0001F700-\\U0001F77F\\U0001F780-\\U0001F7FF\\U0001F800-\\U0001F8FF\\U0001F900-\\U0001F9FF\\U0001FA00-\\U0001FA6F\\U0001FA70-\\U0001FAFF]+', flags=re.UNICODE)\n",
    "            text = emoji_pattern.sub(r\"\", text)\n",
    "            if text != copy:\n",
    "                indice = 1\n",
    "        return text\n",
    "    \n",
    "    def createWidgets(self): \n",
    "        cadre_boutons = Frame(self) \n",
    "        cadre_boutons.pack(side = \"top\")\n",
    "        choices = [\"Option 1\", \"Option 2\", \"Option 3\"]\n",
    "        self.dropdown = ttk.Combobox(self, values=choices)\n",
    "        self.dropdown.set(\"Select an option\")\n",
    "        self.uploadButton = Button(cadre_boutons, text = \"Upload the learning base\", command = lambda: self.uploadFile(self.uploadButton))\n",
    "        self.uploadButton2 = Button(cadre_boutons, text = \"Upload the tweets to classify\", command = lambda: self.uploadFile(self.uploadButton2))\n",
    "        self.quitButton = Button(self, text = \"Leave\", command = self.destroy)\n",
    "        self.dropdown.pack(side=\"right\",anchor=\"ne\")\n",
    "        self.uploadButton.pack(side=\"left\", padx=10)\n",
    "        self.uploadButton2.pack(side=\"right\", padx=10)\n",
    "        self.quitButton.pack(side=\"bottom\",anchor=\"se\")\n",
    "        \n",
    "app = Application()\n",
    "app.createWidgets()\n",
    "app.mainloop()"
   ]
  },
  {
   "cell_type": "code",
   "execution_count": 42,
   "id": "2a4900dd",
   "metadata": {},
   "outputs": [
    {
     "name": "stdout",
     "output_type": "stream",
     "text": [
      ":: bonjour .$XXJe m'appe [ l ]( e bg , je €XX ? suis gay . \n"
     ]
    }
   ],
   "source": []
  }
 ],
 "metadata": {
  "kernelspec": {
   "display_name": "Python 3 (ipykernel)",
   "language": "python",
   "name": "python3"
  },
  "language_info": {
   "codemirror_mode": {
    "name": "ipython",
    "version": 3
   },
   "file_extension": ".py",
   "mimetype": "text/x-python",
   "name": "python",
   "nbconvert_exporter": "python",
   "pygments_lexer": "ipython3",
   "version": "3.10.12"
  }
 },
 "nbformat": 4,
 "nbformat_minor": 5
}
